{
 "cells": [
  {
   "cell_type": "code",
   "execution_count": null,
   "id": "f3c73891",
   "metadata": {},
   "outputs": [
    {
     "name": "stdout",
     "output_type": "stream",
     "text": [
      "Score : 0.8333333333333334\n",
      "Observation\n",
      "{\n",
      "  \"score\": 0.8333333333333334,\n",
      "  \"extracted_data\": {\n",
      "    \"persons\": [\n",
      "      \"Jane Doe\"\n",
      "    ],\n",
      "    \"locations\": [\n",
      "      \"New York\",\n",
      "      \"San Francisco\"\n",
      "    ],\n",
      "    \"organizations\": [\n",
      "      \"Apple Inc.\",\n",
      "      \"Microsoft\"\n",
      "    ]\n",
      "  },\n",
      "  \"expected_data\": {\n",
      "    \"persons\": [\n",
      "      \"John Smith\",\n",
      "      \"Jane Doe\"\n",
      "    ],\n",
      "    \"locations\": [\n",
      "      \"New York\",\n",
      "      \"San Francisco\"\n",
      "    ],\n",
      "    \"organizations\": [\n",
      "      \"Apple Inc.\",\n",
      "      \"Microsoft\"\n",
      "    ]\n",
      "  },\n",
      "  \"field_scores\": {\n",
      "    \"persons\": 0.5,\n",
      "    \"locations\": 1.0,\n",
      "    \"organizations\": 1.0\n",
      "  }\n",
      "}\n"
     ]
    }
   ],
   "source": [
    "import dotenv\n",
    "dotenv.load_dotenv(\"../evalap/.env\")\n",
    "from evalap.api.metrics import metric_registry\n",
    "import os\n",
    "import json\n",
    "\n",
    "# Get the metric function\n",
    "metric_func = metric_registry.get_metric_function(\"llm_structured_output\")\n",
    "\n",
    "# Use it to evaluate\n",
    "score, observation, result = metric_func(\n",
    "    output=json.dumps({\"persons\": [\"Jane Doe\"], \"locations\": [\"New York\", \"San Francisco\"], \"organizations\": [\"Apple Inc.\", \"Microsoft\"]}),\n",
    "    output_true=json.dumps({\"persons\": [\"John Smith\", \"Jane Doe\"], \"locations\": [\"New York\", \"San Francisco\"], \"organizations\": [\"Apple Inc.\", \"Microsoft\"]}),\n",
    "    query=\"John Smith works at Apple Inc. in New York. He met with Jane Doe from Microsoft at the conference in San Francisco.\",\n",
    ")\n",
    "print(\"Score :\", score)\n",
    "print(observation)\n"
   ]
  }
 ],
 "metadata": {
  "kernelspec": {
   "display_name": "document-ia",
   "language": "python",
   "name": "document-ia"
  },
  "language_info": {
   "codemirror_mode": {
    "name": "ipython",
    "version": 3
   },
   "file_extension": ".py",
   "mimetype": "text/x-python",
   "name": "python",
   "nbconvert_exporter": "python",
   "pygments_lexer": "ipython3",
   "version": "3.12.11"
  }
 },
 "nbformat": 4,
 "nbformat_minor": 5
}
